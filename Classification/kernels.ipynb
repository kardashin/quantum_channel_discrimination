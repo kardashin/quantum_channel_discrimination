{
 "cells": [
  {
   "cell_type": "code",
   "execution_count": 2,
   "metadata": {},
   "outputs": [],
   "source": [
    "import numpy as np\n",
    "from numpy import array, diag, arange, linspace, outer, trace, dot, pi, exp, sin, cos, sqrt\n",
    "from numpy.random import uniform\n",
    "from scipy.linalg import eig, eigh, norm, svd, kron, expm, sqrtm\n",
    "from scipy.stats import gaussian_kde, unitary_group\n",
    "from scipy.optimize import minimize\n",
    "\n",
    "import qutip as qp\n",
    "from qutip import rand_dm_hs\n",
    "\n",
    "import time\n",
    "import random\n",
    "from functools import reduce\n",
    "\n",
    "import mpmath as mp\n",
    "mp.dps = 50\n",
    "mp.pretty = True\n",
    "\n",
    "import matplotlib\n",
    "import matplotlib.pyplot as plt\n",
    "from matplotlib.colors import LinearSegmentedColormap\n",
    "\n",
    "matplotlib.rc('font', family='CMU Serif')\n",
    "matplotlib.rcParams['mathtext.fontset'] = 'cm' \n",
    "matplotlib.rcParams['axes.unicode_minus'] = False"
   ]
  },
  {
   "cell_type": "code",
   "execution_count": 2,
   "metadata": {},
   "outputs": [],
   "source": [
    "X = np.array([[0.,1.],\n",
    "              [1.,0.]]) # X Pauli matrix\n",
    "Y = np.array([[0.,-1.j],\n",
    "              [1.j, 0.]]) # Y Pauli matrix\n",
    "Z = np.array([[1., 0.],\n",
    "              [0.,-1.]]) # Z Pauli matrix\n",
    "I = np.array([[1.,0.],\n",
    "              [0.,1.]]) # 2x2 identity matrix"
   ]
  },
  {
   "cell_type": "code",
   "execution_count": 3,
   "metadata": {},
   "outputs": [],
   "source": [
    "def fidelity(A, B):\n",
    "    res = reduce(dot, [sqrtm(A), B, sqrtm(A)])\n",
    "    res = sqrtm(res)\n",
    "    return trace(res).real**2\n",
    "\n",
    "def sup_fidelity(A, B):\n",
    "    \"\"\" An upper bound for the usual fidelity \"\"\"\n",
    "    t1 = trace(A@B).real\n",
    "    t2 = max(0, 1 - trace(A@A).real)\n",
    "    t3 = max(0, 1 - trace(B@B).real)\n",
    "    return t1 + sqrt(t2)*sqrt(t3)"
   ]
  },
  {
   "cell_type": "code",
   "execution_count": 4,
   "metadata": {},
   "outputs": [],
   "source": [
    "def depolarizing_channel(density_matrix, p):        \n",
    "    rho_x = reduce(dot, [X, density_matrix, X])\n",
    "    rho_y = reduce(dot, [Y, density_matrix, Y])\n",
    "    rho_z = reduce(dot, [Z, density_matrix, Z])\n",
    "    return (1 - p)*density_matrix + p/3*(rho_x + rho_y + rho_z)\n",
    "\n",
    "\n",
    "def local_depolarizing_channel(n_qubits, density_matrix, p, target_qubit):\n",
    "    \n",
    "    X_loc = [I] * n_qubits\n",
    "    X_loc[target_qubit] = X\n",
    "    X_loc = reduce(kron, X_loc)\n",
    "    \n",
    "    Y_loc = [I] * n_qubits\n",
    "    Y_loc[target_qubit] = Y\n",
    "    Y_loc = reduce(kron, Y_loc)\n",
    "    \n",
    "    Z_loc = [I] * n_qubits\n",
    "    Z_loc[target_qubit] = Z\n",
    "    Z_loc = reduce(kron, Z_loc)\n",
    "    \n",
    "    new_density_matrix = (1 - p)*density_matrix + (X_loc.dot(density_matrix).dot(X_loc) + Y_loc.dot(density_matrix).dot(Y_loc) + Z_loc.dot(density_matrix).dot(Z_loc)) * p / 3\n",
    "        \n",
    "    return new_density_matrix\n",
    "\n",
    "\n",
    "def colored_noise_channel(n_qubits, density_matrix, t, alpha, target_qubit, gamma1=1e-4, gamma2=1e4):\n",
    "\n",
    "    if alpha == 1:\n",
    "        a = mp.log(mp.fdiv(gamma2, gamma1))\n",
    "        c = mp.fdiv(1, a)\n",
    "        def p(gamma):\n",
    "            return mp.fmul(c, mp.fdiv(1, gamma))\n",
    "    else:\n",
    "        k = mp.fsub(alpha, 1)\n",
    "        a = mp.fmul(gamma1, gamma2)\n",
    "        a_power = mp.power(a, k)\n",
    "        b = mp.fsub(mp.power(gamma2, k), mp.power(gamma1, k))\n",
    "        c = mp.fdiv(a_power, b)\n",
    "        def p(gamma):\n",
    "            pp = mp.power(gamma, alpha)\n",
    "            f = mp.fdiv(k, pp)\n",
    "            return mp.fmul(f, c)\n",
    "   \n",
    "    def G(gamma):\n",
    "        delta = mp.sqrt(gamma**2 - 4)\n",
    "        delta_t = mp.fmul(delta, t)\n",
    "        second = mp.fadd(mp.cosh(delta_t), mp.fdiv(mp.fmul(gamma, mp.sinh(delta_t)), delta))\n",
    "        gamma_t = mp.fmul(gamma, t)\n",
    "        return mp.fmul(mp.exp(-gamma_t), second)\n",
    "        \n",
    "    L = mp.quad(lambda gamma: mp.fmul(p(gamma), G(gamma)), [gamma1, gamma2])\n",
    "    L = float(L.real)\n",
    "    operator = [I] * n_qubits\n",
    "    operator[target_qubit] = Z\n",
    "    operator = reduce(kron, operator)\n",
    "    term1 = (1 + L) / 2 * density_matrix\n",
    "    term2 = (1 - L) / 2 * operator.dot(density_matrix).dot(operator)\n",
    "    \n",
    "    return np.array(term1 + term2, dtype=complex)"
   ]
  },
  {
   "cell_type": "code",
   "execution_count": 3,
   "metadata": {},
   "outputs": [],
   "source": [
    "def train(dm_train, labels, x0=None, kernel_func=None, n_reps=1):\n",
    "    \n",
    "    fvals = []\n",
    "    n_train = len(dm_train)\n",
    "\n",
    "    if kernel_func is None:\n",
    "        kernel_func = fidelity\n",
    "    \n",
    "    # compute the kernel matrix\n",
    "    K = np.zeros((n_train, n_train))\n",
    "    for i in range(n_train):\n",
    "        for j in range(i + 1):\n",
    "            K[i][j] = K[j][i] = kernel_func(dm_train[i], dm_train[j]).real**n_reps\n",
    "    \n",
    "    def fun(x):\n",
    "        term1 = np.sum(x)\n",
    "        lx = array(labels_train)*x\n",
    "        term2 = 0\n",
    "        for i in range(n_train):\n",
    "            term2 += 0.5*lx[i]**2*K[i][i]\n",
    "            for j in range(i):\n",
    "                term2 += lx[i]*lx[j]*K[i][j]\n",
    "        f = term1 - term2\n",
    "        fvals.append(f)\n",
    "        return -f\n",
    "    \n",
    "    # find optimal parameters\n",
    "    bounds = [(0, None)]*n_train\n",
    "    if x0 is None:\n",
    "        x0 = uniform(0, 1e-6, n_train)\n",
    "    constraints = {'type': 'eq',\n",
    "                   'fun': lambda x: dot(x, labels)}\n",
    "    optimization_result = minimize(fun=fun, x0=x0, method=\"SLSQP\", bounds=bounds, constraints=constraints, options={\"maxiter\": 1e6})\n",
    "    parameters = optimization_result.x\n",
    "    \n",
    "    return parameters, fvals, optimization_result, K"
   ]
  },
  {
   "cell_type": "code",
   "execution_count": 6,
   "metadata": {},
   "outputs": [],
   "source": [
    "def find_bias(labels, parameters, K):\n",
    "    index = parameters.argmax()   \n",
    "    s = 0\n",
    "    for i in range(n_train):\n",
    "        s += labels[i]*parameters[i]*K[i][index]\n",
    "    bias = labels[index] - s\n",
    "    return bias"
   ]
  },
  {
   "cell_type": "code",
   "execution_count": 7,
   "metadata": {},
   "outputs": [],
   "source": [
    "def classify(labels_train, parameters, bias, dm_train, dm_test, n_reps=1, kernel_func=None):\n",
    "\n",
    "    if kernel_func is None:\n",
    "        kernel_func = fidelity\n",
    "\n",
    "    lp = array(labels_train)*array(parameters)\n",
    "    predictions = []\n",
    "    for i in range(len(dm_test)):\n",
    "        s = 0\n",
    "        for j in range(len(dm_train)):\n",
    "            s += lp[j]*kernel_func(dm_train[j], dm_test[i]).real**n_reps\n",
    "        m = s + bias\n",
    "        predictions.append(m)\n",
    "\n",
    "    assignments = np.sign(predictions)\n",
    "    \n",
    "    return assignments, predictions"
   ]
  },
  {
   "cell_type": "code",
   "execution_count": 8,
   "metadata": {},
   "outputs": [],
   "source": [
    "def accuracy(labels, assignments):\n",
    "    acc = 0\n",
    "    for label, assignment in zip(labels, assignments):\n",
    "        if label == assignment:\n",
    "            acc += 1\n",
    "    return acc/len(labels)"
   ]
  },
  {
   "cell_type": "markdown",
   "metadata": {},
   "source": [
    "# Discrete "
   ]
  },
  {
   "cell_type": "code",
   "execution_count": 9,
   "metadata": {},
   "outputs": [],
   "source": [
    "alphas = [0.6, 0.8] # alphas to classify\n",
    "\n",
    "n_train = 100 # train set size\n",
    "n_test = 1000 # test set size"
   ]
  },
  {
   "cell_type": "code",
   "execution_count": 10,
   "metadata": {},
   "outputs": [
    {
     "name": "stdout",
     "output_type": "stream",
     "text": [
      "-1: 65\n",
      "+1: 35\n"
     ]
    }
   ],
   "source": [
    "labels_train = [] # list for true labels for the training set\n",
    "dm_train = [] # list of channeled density matrices for the training set\n",
    "for i in range(n_train):\n",
    "    label = random.sample([-1, 1], 1)[0] # generate a random class label\n",
    "    labels_train.append(label) # store the label\n",
    "    if label == -1:\n",
    "        alpha = alphas[0] # pick the corresponding alpha\n",
    "    elif label == 1:\n",
    "        alpha = alphas[1] # pick the corresponding alpha\n",
    "    dm = array(rand_dm_hs(2)) # generate a random density matrix\n",
    "    # dm = array(qp.rand_ket(2)); dm = outer(dm, dm.conj().T) # generate a random density matrix\n",
    "    # dm = np.array([[1/2]*2]*2)\n",
    "    dm = depolarizing_channel(dm, alpha) # act with the depolarizing channel\n",
    "    dm_train.append(dm) # store the channeled density matrix \n",
    "    \n",
    "print('-1:', labels_train.count(-1))\n",
    "print('+1:', labels_train.count(1))"
   ]
  },
  {
   "cell_type": "code",
   "execution_count": 11,
   "metadata": {},
   "outputs": [
    {
     "name": "stdout",
     "output_type": "stream",
     "text": [
      "-1: 500\n",
      "+1: 500\n"
     ]
    }
   ],
   "source": [
    "labels_test = [] # list for true labels for the training set\n",
    "dm_test = [] # list of channeled density matrices for the training set\n",
    "for i in range(n_test):\n",
    "    label = random.sample([-1, 1], 1)[0] # generate a random class label\n",
    "    labels_test.append(label) # store the label\n",
    "    if label == -1:\n",
    "        alpha = alphas[0] # pick the corresponding alpha\n",
    "    elif label == 1:\n",
    "        alpha = alphas[1] # pick the corresponding alpha\n",
    "    dm = array(rand_dm_hs(2)) # generate a random density matrix\n",
    "    # dm = array(qp.rand_ket(2)); dm = outer(dm, dm.conj().T) # generate a random density matrix\n",
    "    # dm = np.array([[1/2]*2]*2)\n",
    "    dm = depolarizing_channel(dm, alpha) # act with the depolarizing channel\n",
    "    dm_test.append(dm) # store the channeled density matrix \n",
    "    \n",
    "print('-1:', labels_test.count(-1))\n",
    "print('+1:', labels_test.count(1))"
   ]
  },
  {
   "cell_type": "code",
   "execution_count": 12,
   "metadata": {},
   "outputs": [
    {
     "name": "stdout",
     "output_type": "stream",
     "text": [
      "Completed in 61.20341610908508\n",
      "Cost: -15922.594220148882\n",
      "Optimization terminated successfully\n"
     ]
    },
    {
     "data": {
      "image/png": "[encoded data removed]",
      "text/plain": [
       "<Figure size 640x480 with 1 Axes>"
      ]
     },
     "metadata": {},
     "output_type": "display_data"
    }
   ],
   "source": [
    "# kernel_func = lambda A, B: trace(A@B).real\n",
    "# kernel_func = sup_fidelity\n",
    "kernel_func = fidelity\n",
    "n_reps = 1\n",
    "\n",
    "start_time = time.time()\n",
    "parameters, f_values, optimization_result, K = train(dm_train, labels_train, n_reps=n_reps, kernel_func=kernel_func)\n",
    "bias = find_bias(labels_train, parameters, K)\n",
    "print('Completed in', time.time() - start_time)\n",
    "print(\"Cost:\", optimization_result.fun)\n",
    "print(optimization_result.message)\n",
    "\n",
    "x_axis = np.arange(len(f_values))\n",
    "plt.plot(x_axis, f_values)\n",
    "plt.show()"
   ]
  },
  {
   "cell_type": "code",
   "execution_count": 15,
   "metadata": {},
   "outputs": [
    {
     "name": "stdout",
     "output_type": "stream",
     "text": [
      "1.0\n"
     ]
    },
    {
     "name": "stderr",
     "output_type": "stream",
     "text": [
      "/tmp/ipykernel_38313/2257010825.py:47: UserWarning: Tight layout not applied. The bottom and top margins cannot be made large enough to accommodate all axes decorations.\n",
      "  plt.tight_layout()\n"
     ]
    },
    {
     "data": {
      "image/png": "[encoded data removed]",
      "text/plain": [
       "<Figure size 500x75 with 1 Axes>"
      ]
     },
     "metadata": {},
     "output_type": "display_data"
    }
   ],
   "source": [
    "assignments_train, predictions_train = classify(labels_train, parameters, bias, dm_train, dm_train, n_reps=n_reps, kernel_func=kernel_func)\n",
    "acc_train = accuracy(labels_train, assignments_train)\n",
    "normer = np.max(np.abs(predictions_train))\n",
    "print(acc_train)\n",
    "\n",
    "predictions_train_p = []\n",
    "predictions_train_m = []\n",
    "for label, prediction in zip(labels_train, predictions_train):\n",
    "    if label == 1:\n",
    "        predictions_train_p.append(prediction)\n",
    "    elif label == -1:\n",
    "        predictions_train_m.append(prediction)\n",
    "        \n",
    "transp = 1\n",
    "fontsize = 22\n",
    "plt.figure(figsize=(5, 0.75))\n",
    "\n",
    "cmap_p = plt.get_cmap('Blues')\n",
    "colors_p = cmap_p(np.linspace(0.5, 1, cmap_p.N))\n",
    "cmap_p = LinearSegmentedColormap.from_list('Blues', colors_p)\n",
    "x = array(predictions_train_p)\n",
    "y = array([0]*len(predictions_train_p))\n",
    "c = gaussian_kde(predictions_train_p)(predictions_train_p)\n",
    "idx = c.argsort()\n",
    "x, y, c = x[idx], y[idx], c[idx]\n",
    "plt.scatter(x/normer, y, c=c, cmap=cmap_p, s=100, alpha=transp)\n",
    "\n",
    "cmap_m = plt.get_cmap(\"Reds\")\n",
    "colors_m = cmap_m(np.linspace(0.5, 1, cmap_m.N))\n",
    "cmap_m = LinearSegmentedColormap.from_list(\"Reds\", colors_m)\n",
    "x = array(predictions_train_m)\n",
    "y = array([0.075]*len(predictions_train_m))\n",
    "c = gaussian_kde(predictions_train_m)(predictions_train_m)\n",
    "idx = c.argsort()\n",
    "x, y, c = x[idx], y[idx], c[idx]\n",
    "plt.scatter(x/normer, y, c=c, cmap=cmap_m, s=100, alpha=transp)\n",
    "\n",
    "plt.axvline(x=0, color=\"black\")\n",
    "plt.xlabel('Prediction value', fontsize=fontsize)\n",
    "plt.xticks(fontsize=fontsize)\n",
    "plt.yticks([],[])\n",
    "plt.xlim(np.min(predictions_train)*1.2, abs(np.max(predictions_train))*1.2)\n",
    "plt.xlim(-1.2, 1.2)\n",
    "plt.ylim(-0.1, 0.2)\n",
    "# plt.title(\"$n=\"+ str(n_reps) +\"$, accuracy: \" + str(np.round(acc_test, 3)), fontsize=fontsize)\n",
    "plt.title(\"$n=\"+ str(n_reps) +\"$, $A_{\\mathrm{train}}=\" + str(np.round(acc_train, 3)) + \"$\", fontsize=fontsize)\n",
    "plt.tight_layout()\n",
    "plt.show()"
   ]
  },
  {
   "cell_type": "code",
   "execution_count": 16,
   "metadata": {},
   "outputs": [
    {
     "name": "stderr",
     "output_type": "stream",
     "text": [
      "/tmp/ipykernel_38313/1669224200.py:45: UserWarning: Tight layout not applied. The bottom and top margins cannot be made large enough to accommodate all axes decorations.\n",
      "  plt.tight_layout()\n"
     ]
    },
    {
     "data": {
      "image/png": "[encoded data removed]",
      "text/plain": [
       "<Figure size 500x75 with 1 Axes>"
      ]
     },
     "metadata": {},
     "output_type": "display_data"
    }
   ],
   "source": [
    "assignments_test, predictions_test = classify(labels_train, parameters, bias, dm_train, dm_test, n_reps=n_reps, kernel_func=kernel_func)\n",
    "acc_test = accuracy(labels_test, assignments_test)\n",
    "normer = np.max(np.abs(predictions_test))\n",
    "    \n",
    "predictions_test_p = []\n",
    "predictions_test_m = []\n",
    "for label, prediction in zip(labels_test, predictions_test):\n",
    "    if label == 1:\n",
    "        predictions_test_p.append(prediction)\n",
    "    elif label == -1:\n",
    "        predictions_test_m.append(prediction)\n",
    "        \n",
    "transp = 1\n",
    "fontsize = 18\n",
    "plt.figure(figsize=(5, 0.75))\n",
    "\n",
    "cmap_p = plt.get_cmap('Blues')\n",
    "colors_p = cmap_p(np.linspace(0.5, 1, cmap_p.N))\n",
    "cmap_p = LinearSegmentedColormap.from_list('Blues', colors_p)\n",
    "x = array(predictions_test_p)\n",
    "y = array([0]*len(predictions_test_p))\n",
    "c = gaussian_kde(predictions_test_p)(predictions_test_p)\n",
    "idx = c.argsort()\n",
    "x, y, c = x[idx], y[idx], c[idx]\n",
    "plt.scatter(x/normer, y, c=c, cmap=cmap_p, s=100, alpha=transp)\n",
    "\n",
    "cmap_m = plt.get_cmap(\"Reds\")\n",
    "colors_m = cmap_m(np.linspace(0.5, 1, cmap_m.N))\n",
    "cmap_m = LinearSegmentedColormap.from_list(\"Reds\", colors_m)\n",
    "x = array(predictions_test_m)\n",
    "y = array([0.075]*len(predictions_test_m))\n",
    "c = gaussian_kde(predictions_test_m)(predictions_test_m)\n",
    "idx = c.argsort()\n",
    "x, y, c = x[idx], y[idx], c[idx]\n",
    "plt.scatter(x/normer, y, c=c, cmap=cmap_m, s=100, alpha=transp)\n",
    "\n",
    "plt.axvline(x=0, color=\"black\")\n",
    "plt.xlabel('Prediction value', fontsize=fontsize)\n",
    "plt.xticks(fontsize=fontsize)\n",
    "plt.yticks([],[])\n",
    "# plt.xlim(np.min(predictions_test)*1.2, np.max(predictions_test)*1.2)\n",
    "plt.xlim(-1.2, 1.2)\n",
    "plt.ylim(-0.1, 0.2)\n",
    "plt.title(\"$n=\"+ str(n_reps) +\"$, $A_{\\mathrm{test}}=\" + str(np.round(acc_test, 3)) + \"$\", fontsize=fontsize)\n",
    "plt.tight_layout()\n",
    "plt.savefig(\"Atest-Ntrain=\" + str(n_train) + \"-Ntest=\" + str(n_test) + \"-Nreps=\" + str(n_reps) + \"-alpha0=\" + str(alphas[0]) + \"-alpha1=\" + str(alphas[1]) + \".pdf\" , bbox_inches='tight', transparent=True)\n",
    "plt.show()"
   ]
  },
  {
   "cell_type": "code",
   "execution_count": null,
   "metadata": {},
   "outputs": [],
   "source": []
  },
  {
   "cell_type": "code",
   "execution_count": 17,
   "metadata": {},
   "outputs": [
    {
     "ename": "SyntaxError",
     "evalue": "invalid syntax (2148945196.py, line 1)",
     "output_type": "error",
     "traceback": [
      "\u001b[0;36m  Cell \u001b[0;32mIn[17], line 1\u001b[0;36m\u001b[0m\n\u001b[0;31m    No!\u001b[0m\n\u001b[0m      ^\u001b[0m\n\u001b[0;31mSyntaxError\u001b[0m\u001b[0;31m:\u001b[0m invalid syntax\n"
     ]
    }
   ],
   "source": [
    "No!"
   ]
  },
  {
   "cell_type": "markdown",
   "metadata": {
    "tags": []
   },
   "source": [
    "# Intervals"
   ]
  },
  {
   "cell_type": "code",
   "execution_count": null,
   "metadata": {},
   "outputs": [],
   "source": [
    "n_train = 300\n",
    "\n",
    "\n",
    "# regions_0 = [(0.0, 0.5)]\n",
    "# regions_1 = [(0.5, 1.0)]\n",
    "\n",
    "# regions_0 = [(0.1, 0.2)]\n",
    "# regions_1 = [(0.7, 0.9)]\n",
    "\n",
    "# regions_0 = [(0.0, 0.75)]\n",
    "# regions_1 = [(0.25, 1.0)]\n",
    "\n",
    "regions_0 = [(0.0, 0.25), (0.5, 0.75)]\n",
    "regions_1 = [(0.25, 0.5), (0.75, 1.0)]\n",
    "\n",
    "class_labels = [-1, 1]\n",
    "n_classes = len(class_labels)\n",
    "\n",
    "alphas_train = []\n",
    "labels_train = []\n",
    "for i in range(n_train):\n",
    "\n",
    "    label = random.sample([-1, 1], 1)[0]\n",
    "    if label == -1: \n",
    "        coin = random.sample([i for i in range(len(regions_0))], 1)[0]\n",
    "        alpha = random.uniform(regions_0[coin][0], regions_0[coin][1])\n",
    "    if label == 1:\n",
    "        coin = random.sample([i for i in range(len(regions_1))], 1)[0]\n",
    "        alpha = random.uniform(regions_1[coin][0], regions_1[coin][1])\n",
    "        \n",
    "    labels_train.append(label)\n",
    "    alphas_train.append(alpha)\n",
    "\n",
    "print(labels_train.count(-1), labels_train.count(1))\n",
    "\n",
    "dm_train = []\n",
    "# density_matrix = np.array([[1/2]*2]*2)\n",
    "density_matrix = diag([1, 0])\n",
    "# density_matrix = np.asarray(qp.rand_dm_hs(2))\n",
    "for alpha in alphas_train:\n",
    "    # density_matrix = np.array([[1/2]*2]*2)\n",
    "    # density_matrix = np.asarray(qp.rand_dm_hs(2))\n",
    "    dm = local_depolarizing_channel(1, density_matrix, alpha, 0)\n",
    "    dm_train.append(dm)"
   ]
  },
  {
   "cell_type": "code",
   "execution_count": null,
   "metadata": {},
   "outputs": [],
   "source": [
    "n_test = 1000\n",
    "\n",
    "alphas_test = []\n",
    "labels_test = []\n",
    "for i in range(n_test):\n",
    "    label = random.sample([-1, 1], 1)[0]\n",
    "    if label == -1: \n",
    "        coin = random.sample([i for i in range(len(regions_0))], 1)[0]\n",
    "        alpha = random.uniform(regions_0[coin][0], regions_0[coin][1])\n",
    "    if label == 1:\n",
    "        coin = random.sample([i for i in range(len(regions_1))], 1)[0]\n",
    "        alpha = random.uniform(regions_1[coin][0], regions_1[coin][1])\n",
    "    labels_test.append(label)\n",
    "    alphas_test.append(alpha)\n",
    "        \n",
    "dm_test = []\n",
    "for alpha in alphas_test:\n",
    "    # density_matrix = np.array([[1/2]*2]*2)\n",
    "    # density_matrix = np.asarray(qp.rand_dm_hs(2))\n",
    "    dm = local_depolarizing_channel(1, density_matrix, alpha, 0)\n",
    "    dm_test.append(dm)  "
   ]
  },
  {
   "cell_type": "code",
   "execution_count": null,
   "metadata": {},
   "outputs": [],
   "source": [
    "n_reps = 2\n",
    "\n",
    "start_time = time.time()\n",
    "parameters, f_values, optimization_result, K = train(dm_train, labels_train, n_reps=n_reps)\n",
    "bias = find_bias(labels_train, parameters, K)\n",
    "print('Completed in', time.time() - start_time)\n",
    "print(optimization_result.message)\n",
    "\n",
    "x_axis = np.arange(len(f_values))\n",
    "plt.plot(x_axis, f_values)\n",
    "plt.show()"
   ]
  },
  {
   "cell_type": "markdown",
   "metadata": {},
   "source": [
    "#### Train accuracy"
   ]
  },
  {
   "cell_type": "code",
   "execution_count": null,
   "metadata": {},
   "outputs": [],
   "source": [
    "assignments_train, predictions_train = classify(labels_train, parameters, bias, dm_train, dm_train, n_reps)\n",
    "acc_train = accuracy(labels_train, assignments_train)\n",
    "normer = np.max(np.abs(predictions_train))\n",
    "    \n",
    "predictions_train_p = []\n",
    "predictions_train_m = []\n",
    "for label, prediction in zip(labels_train, predictions_train):\n",
    "    if label == 1:\n",
    "        predictions_train_p.append(prediction)\n",
    "    elif label == -1:\n",
    "        predictions_train_m.append(prediction)\n",
    "        \n",
    "transp = 1\n",
    "fontsize = 22\n",
    "plt.figure(figsize=(5, 0.75))\n",
    "\n",
    "cmap_p = plt.get_cmap('Blues')\n",
    "colors_p = cmap_p(np.linspace(0.0, 1, cmap_p.N))\n",
    "cmap_p = LinearSegmentedColormap.from_list('Blues', colors_p)\n",
    "x = array(predictions_train_p)\n",
    "y = array([0]*len(predictions_train_p))\n",
    "c = gaussian_kde(predictions_train_p)(predictions_train_p)\n",
    "idx = c.argsort()\n",
    "x, y, c = x[idx], y[idx], c[idx]\n",
    "plt.scatter(x/normer, y, c=c, cmap=cmap_p, s=100, alpha=transp)\n",
    "\n",
    "cmap_m = plt.get_cmap(\"Reds\")\n",
    "colors_m = cmap_m(np.linspace(0.0, 1, cmap_m.N))\n",
    "cmap_m = LinearSegmentedColormap.from_list(\"Reds\", colors_m)\n",
    "x = array(predictions_train_m)\n",
    "y = array([0.075]*len(predictions_train_m))\n",
    "c = gaussian_kde(predictions_train_m)(predictions_train_m)\n",
    "idx = c.argsort()\n",
    "x, y, c = x[idx], y[idx], c[idx]\n",
    "plt.scatter(x/normer, y, c=c, cmap=cmap_m, s=100, alpha=transp)\n",
    "\n",
    "plt.axvline(x=0, color=\"black\")\n",
    "plt.xlabel('Prediction value', fontsize=fontsize)\n",
    "plt.xticks(fontsize=fontsize)\n",
    "plt.yticks([],[])\n",
    "plt.xlim(np.min(predictions_train)*1.2, abs(np.max(predictions_train))*1.2)\n",
    "plt.xlim(-1.2, 1.2)\n",
    "plt.ylim(-0.1, 0.2)\n",
    "# plt.title(\"$n=\"+ str(n_reps) +\"$, accuracy: \" + str(np.round(acc_test, 3)), fontsize=fontsize)\n",
    "plt.title(\"$n=\"+ str(n_reps) +\"$, $A_{\\mathrm{train}}=\" + str(np.round(acc_train, 3)) + \"$\", fontsize=fontsize)\n",
    "plt.tight_layout()\n",
    "plt.show()"
   ]
  },
  {
   "cell_type": "markdown",
   "metadata": {},
   "source": [
    "#### Test accuracy"
   ]
  },
  {
   "cell_type": "code",
   "execution_count": null,
   "metadata": {},
   "outputs": [],
   "source": [
    "assignments_test, predictions_test = classify(labels_train, parameters, bias, dm_train, dm_test, n_reps)\n",
    "acc_test = accuracy(labels_test, assignments_test)\n",
    "normer = np.max(np.abs(predictions_test))\n",
    "    \n",
    "predictions_test_p = []\n",
    "predictions_test_m = []\n",
    "for label, prediction in zip(labels_test, predictions_test):\n",
    "    if label == 1:\n",
    "        predictions_test_p.append(prediction)\n",
    "    elif label == -1:\n",
    "        predictions_test_m.append(prediction)\n",
    "        \n",
    "transp = 1\n",
    "fontsize = 18\n",
    "plt.figure(figsize=(5, 0.75))\n",
    "\n",
    "cmap_p = plt.get_cmap('Blues')\n",
    "colors_p = cmap_p(np.linspace(0.0, 1, cmap_p.N))\n",
    "cmap_p = LinearSegmentedColormap.from_list('Blues', colors_p)\n",
    "x = array(predictions_test_p)\n",
    "y = array([0]*len(predictions_test_p))\n",
    "c = gaussian_kde(predictions_test_p)(predictions_test_p)\n",
    "idx = c.argsort()\n",
    "x, y, c = x[idx], y[idx], c[idx]\n",
    "plt.scatter(x/normer, y, c=c, cmap=cmap_p, s=100, alpha=transp)\n",
    "\n",
    "cmap_m = plt.get_cmap(\"Reds\")\n",
    "colors_m = cmap_m(np.linspace(0.0, 1, cmap_m.N))\n",
    "cmap_m = LinearSegmentedColormap.from_list(\"Reds\", colors_m)\n",
    "x = array(predictions_test_m)\n",
    "y = array([0.075]*len(predictions_test_m))\n",
    "c = gaussian_kde(predictions_test_m)(predictions_test_m)\n",
    "idx = c.argsort()\n",
    "x, y, c = x[idx], y[idx], c[idx]\n",
    "plt.scatter(x/normer, y, c=c, cmap=cmap_m, s=100, alpha=transp)\n",
    "\n",
    "plt.axvline(x=0, color=\"black\")\n",
    "plt.xlabel('Prediction value', fontsize=fontsize)\n",
    "plt.xticks(fontsize=fontsize)\n",
    "plt.yticks([],[])\n",
    "# plt.xlim(np.min(predictions_test)*1.2, np.max(predictions_test)*1.2)\n",
    "plt.xlim(-1.2, 1.2)\n",
    "plt.ylim(-0.1, 0.2)\n",
    "plt.title(\"$n=\"+ str(n_reps) +\"$, $A_{\\mathrm{test}}=\" + str(np.round(acc_test, 3)) + \"$\", fontsize=fontsize)\n",
    "plt.tight_layout()\n",
    "# plt.savefig(\"Atest-Ntrain=\" + str(n_train) + \"-Ntest=\" + str(n_test) + \"-Nreps=\" + str(n_reps) + \"-I1-random_states.pdf\" , bbox_inches='tight', transparent=True)\n",
    "plt.show()"
   ]
  }
 ],
 "metadata": {
  "kernelspec": {
   "display_name": "Python 3 (ipykernel)",
   "language": "python",
   "name": "python3"
  },
  "language_info": {
   "codemirror_mode": {
    "name": "ipython",
    "version": 3
   },
   "file_extension": ".py",
   "mimetype": "text/x-python",
   "name": "python",
   "nbconvert_exporter": "python",
   "pygments_lexer": "ipython3",
   "version": "3.11.7"
  }
 },
 "nbformat": 4,
 "nbformat_minor": 4
}
