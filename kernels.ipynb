{
 "cells": [
  {
   "cell_type": "code",
   "execution_count": 1,
   "metadata": {},
   "outputs": [],
   "source": [
    "import numpy as np\n",
    "from numpy import outer, trace, dot, pi, log, exp, sin, cos, sqrt\n",
    "from scipy.linalg import eig, eigh, norm, svd, kron, expm, sqrtm\n",
    "from scipy.stats import gaussian_kde, unitary_group\n",
    "from scipy.optimize import minimize\n",
    "\n",
    "import qutip as qp\n",
    "from qiskit.quantum_info import Operator\n",
    "from qiskit.circuit import Parameter\n",
    "from qiskit.compiler import transpile\n",
    "\n",
    "import time\n",
    "import random\n",
    "from functools import reduce\n",
    "\n",
    "from qiskit import QuantumCircuit, QuantumRegister, ClassicalRegister, Aer, execute\n",
    "\n",
    "import mpmath as mp\n",
    "mp.dps = 250; mp.pretty = False\n",
    "\n",
    "import matplotlib\n",
    "import matplotlib.pyplot as plt\n",
    "from matplotlib.colors import LinearSegmentedColormap"
   ]
  },
  {
   "cell_type": "code",
   "execution_count": 2,
   "metadata": {},
   "outputs": [],
   "source": [
    "s0 = np.array([[1],\n",
    "               [0]])\n",
    "P0 = np.array([[1., 0.],\n",
    "               [0., 0.]]) # |0><0|\n",
    "P1 = np.array([[0., 0.],\n",
    "               [0., 1.]]) # |1><1|\n",
    "X = np.array([[0.,1.],\n",
    "              [1.,0.]]) # X Pauli matrix\n",
    "Y = np.array([[0.,-1.j],\n",
    "              [1.j, 0.]]) # Y Pauli matrix\n",
    "Z = np.array([[1., 0.],\n",
    "              [0.,-1.]]) # Z Pauli matrix\n",
    "I = np.array([[1.,0.],\n",
    "              [0.,1.]]) # 2x2 identity matrix\n",
    "H = (X + Z) / sqrt(2)\n",
    "XX = kron(X, X)\n",
    "YY = kron(Y, Y)\n",
    "ZZ = kron(Z, Z)"
   ]
  },
  {
   "cell_type": "code",
   "execution_count": 3,
   "metadata": {},
   "outputs": [],
   "source": [
    "swap = np.array([[1, 0, 0, 0],\n",
    "                 [0, 0, 1, 0],\n",
    "                 [0, 1, 0, 0],\n",
    "                 [0, 0, 0, 1]])\n",
    "\n",
    "cswap = reduce(kron, [P0, I, I]) + reduce(kron, [P1, swap])"
   ]
  },
  {
   "cell_type": "code",
   "execution_count": 4,
   "metadata": {},
   "outputs": [],
   "source": [
    "def su2(parameters):\n",
    "    \n",
    "    c_11 =  exp(1j * (-parameters[1] - parameters[2])) * cos(parameters[0])\n",
    "    c_12 = -exp(1j * (-parameters[1] + parameters[2])) * sin(parameters[0])\n",
    "    c_21 =  exp(1j * ( parameters[1] - parameters[2])) * sin(parameters[0])\n",
    "    c_22 =  exp(1j * ( parameters[1] + parameters[2])) * cos(parameters[0])\n",
    "    operator = np.array([[c_11, c_12],\n",
    "                         [c_21, c_22]])\n",
    "    \n",
    "    return operator\n",
    "\n",
    "\n",
    "def su4(parameters):\n",
    "    \n",
    "    op_11 = su2([parameters[0], parameters[1], parameters[2]])\n",
    "    op_12 = su2([parameters[3], parameters[4], parameters[5]])\n",
    "    op_1 = kron(op_11, op_12)\n",
    "    \n",
    "    op_2 = expm(1j * (parameters[6]*XX + parameters[7]*YY + parameters[8]*ZZ))\n",
    "    \n",
    "    op_31 = su2([parameters[9], parameters[10], parameters[11]])\n",
    "    op_32 = su2([parameters[12], parameters[13], parameters[14]])\n",
    "    op_3 = kron(op_31, op_32)\n",
    "    \n",
    "    return op_3.dot(op_2).dot(op_1)"
   ]
  },
  {
   "cell_type": "code",
   "execution_count": 5,
   "metadata": {},
   "outputs": [],
   "source": [
    "def fidelity(dm1, dm2):\n",
    "    \n",
    "    dm1_sqrt = sqrtm(dm1)\n",
    "    \n",
    "    dm = sqrtm(dm1_sqrt.dot(dm2).dot(dm1_sqrt))\n",
    "\n",
    "    return (trace(dm)).real**2"
   ]
  },
  {
   "cell_type": "code",
   "execution_count": 6,
   "metadata": {},
   "outputs": [],
   "source": [
    "def random_hermitian(qubits_number, distribution='uniform'):\n",
    "    \n",
    "    d = 2**qubits_number\n",
    "    \n",
    "    if distribution == 'uniform':\n",
    "        hermitian = np.array([[np.random.uniform(-1, 1) for i in range(d)] for i in range(d)]) + 1.j * np.array([[np.random.uniform(-1, 1) for i in range(d)] for i in range(d)])\n",
    "    if distribution == 'gaussian':\n",
    "        hermitian = np.array([[np.random.normal() for i in range(d)] for i in range(d)]) + 1.j * np.array([[np.random.normal() for i in range(d)] for i in range(d)]) \n",
    "\n",
    "    hermitian = (hermitian + hermitian.T.conj())/2\n",
    "    \n",
    "    return hermitian"
   ]
  },
  {
   "cell_type": "code",
   "execution_count": 7,
   "metadata": {},
   "outputs": [],
   "source": [
    "def schwinger_model(n_qubits, w, m, g):\n",
    "    \n",
    "    d = 2**n_qubits\n",
    "    \n",
    "    sp = (X + 1j * Y) / 2\n",
    "    sm = (X - 1j * Y) / 2\n",
    "    \n",
    "    term_1 = 1j * np.zeros((d, d))\n",
    "    for j in range(n_qubits):\n",
    "        k = (j + 1) % n_qubits\n",
    "        crea = [I]*j + [sp] + [I]*(n_qubits - j - 1)\n",
    "        anni = [I]*k + [sm] + [I]*(n_qubits - k - 1)\n",
    "        crea = reduce(kron, crea)\n",
    "        anni = reduce(kron, anni)\n",
    "        op = crea.dot(anni)\n",
    "        term_1 = term_1 + op + op.conj().T\n",
    "    term_1 = w * term_1\n",
    "\n",
    "    term_2 = 1j * np.zeros((d, d))\n",
    "    for j in range(n_qubits):\n",
    "        operator = [I]*j + [Z] + [I]*(n_qubits - 1 - j)\n",
    "        term_2 = term_2 + (-1)**(j + 1) * reduce(kron, operator)\n",
    "    term_2 = m / 2 * term_2\n",
    "\n",
    "    term_3 = 1j * np.zeros((d, d))\n",
    "    for j in range(n_qubits):\n",
    "        L = 1j * np.zeros((d, d))\n",
    "        for l in range(j + 1):\n",
    "            operator = [I]*n_qubits\n",
    "            operator[l] = Z + (-1)**(l + 1) * I\n",
    "            L = L - 0.5 * reduce(kron, operator)\n",
    "        term_3 = term_3 + L.dot(L)\n",
    "    term_3 = g * term_3\n",
    "        \n",
    "    return term_1 + term_2 + term_3"
   ]
  },
  {
   "cell_type": "code",
   "execution_count": 8,
   "metadata": {},
   "outputs": [],
   "source": [
    "def local_depolarizing_channel(n_qubits, density_matrix, p, target_qubit):\n",
    "    \n",
    "    X_loc = [I] * n_qubits\n",
    "    X_loc[target_qubit] = X\n",
    "    X_loc = reduce(kron, X_loc)\n",
    "    \n",
    "    Y_loc = [I] * n_qubits\n",
    "    Y_loc[target_qubit] = Y\n",
    "    Y_loc = reduce(kron, Y_loc)\n",
    "    \n",
    "    Z_loc = [I] * n_qubits\n",
    "    Z_loc[target_qubit] = Z\n",
    "    Z_loc = reduce(kron, Z_loc)\n",
    "    \n",
    "    new_density_matrix = (1 - p)*density_matrix + (X_loc.dot(density_matrix).dot(X_loc) + Y_loc.dot(density_matrix).dot(Y_loc) + Z_loc.dot(density_matrix).dot(Z_loc)) * p / 3\n",
    "        \n",
    "    return new_density_matrix\n",
    "\n",
    "\n",
    "def colored_noise_channel(n_qubits, density_matrix, t, alpha, target_qubit, gamma1=1e-4, gamma2=1e4):\n",
    "\n",
    "    if alpha == 1:\n",
    "        a = mp.log(mp.fdiv(gamma2, gamma1))\n",
    "        c = mp.fdiv(1, a)\n",
    "        def p(gamma):\n",
    "            return mp.fmul(c, mp.fdiv(1, gamma))\n",
    "    else:\n",
    "        k = mp.fsub(alpha, 1)\n",
    "        a = mp.fmul(gamma1, gamma2)\n",
    "        a_power = mp.power(a, k)\n",
    "        b = mp.fsub(mp.power(gamma2, k), mp.power(gamma1, k))\n",
    "        c = mp.fdiv(a_power, b)\n",
    "        def p(gamma):\n",
    "            pp = mp.power(gamma, alpha)\n",
    "            f = mp.fdiv(k, pp)\n",
    "            return mp.fmul(f, c)\n",
    "   \n",
    "    def G(gamma):\n",
    "        delta = mp.sqrt(gamma**2 - 4)\n",
    "        delta_t = mp.fmul(delta, t)\n",
    "        second = mp.fadd(mp.cosh(delta_t), mp.fdiv(mp.fmul(gamma, mp.sinh(delta_t)), delta))\n",
    "        gamma_t = mp.fmul(gamma, t)\n",
    "        return mp.fmul(mp.exp(-gamma_t), second)\n",
    "        \n",
    "    L = mp.quad(lambda gamma: mp.fmul(p(gamma), G(gamma)), [gamma1, gamma2])\n",
    "    L = float(L.real)\n",
    "    operator = [I] * n_qubits\n",
    "    operator[target_qubit] = Z\n",
    "    operator = reduce(kron, operator)\n",
    "    term1 = (1 + L) / 2 * density_matrix\n",
    "    term2 = (1 - L) / 2 * operator.dot(density_matrix).dot(operator)\n",
    "    \n",
    "    return np.array(term1 + term2, dtype=complex)"
   ]
  },
  {
   "cell_type": "markdown",
   "metadata": {},
   "source": [
    "# v0: test of Hamiltonian eigenstates classification\n",
    "\n",
    "No circuits, just matrix multiplication."
   ]
  },
  {
   "cell_type": "code",
   "execution_count": 318,
   "metadata": {},
   "outputs": [],
   "source": [
    "def train(dm_train, labels, method):\n",
    "    \n",
    "    f_values = []\n",
    "    n_train = len(dm_train)\n",
    "    \n",
    "    # estimate the kernel\n",
    "    K = np.zeros((n_train, n_train))\n",
    "    for i in range(n_train):\n",
    "        for j in range(i + 1):\n",
    "            K[i][j] = K[j][i] = trace(dot(dm_train[i], dm_train[j])).real\n",
    "            \n",
    "    # hinge loss\n",
    "    def fun(x):\n",
    "        \n",
    "        term1 = 0\n",
    "        term2 = 0\n",
    "        \n",
    "        for i in range(n_train):\n",
    "            term1 += x[i]\n",
    "            for j in range(n_train):\n",
    "                term2 += labels[i]*labels[j]*x[i]*x[j]*K[i][j]\n",
    "        \n",
    "        f = term1 - 0.5*term2\n",
    "        f_values.append(f)\n",
    "        \n",
    "        return -f\n",
    "    \n",
    "    \n",
    "    # train the model #\n",
    "    \n",
    "    # find optimal parameters\n",
    "    bounds = [(0, None)] * n_train\n",
    "    x0 = [random.uniform(0, 1) for i in range(n_train)]\n",
    "    constraints = {'type': 'eq',\n",
    "                   'fun': lambda x: dot(x, labels)}\n",
    "    optimization_result = minimize(fun=fun, x0=x0, method=method, bounds=bounds, constraints=constraints)\n",
    "    parameters = optimization_result.x\n",
    "    \n",
    "    # find bias\n",
    "\n",
    "    for i in range(n_train):\n",
    "        if np.round(parameters[i], 3) > 0:\n",
    "            index = i\n",
    "            break\n",
    "            \n",
    "    s = 0\n",
    "    for i in range(n_train):\n",
    "#         if i != index:\n",
    "            s += labels[i]*parameters[i]*K[i][index]\n",
    "        \n",
    "    bias = labels[index] - s\n",
    "    \n",
    "    \n",
    "    return parameters, bias, f_values, optimization_result, K"
   ]
  },
  {
   "cell_type": "code",
   "execution_count": 319,
   "metadata": {},
   "outputs": [],
   "source": [
    "def classify(labels_train, parameters, bias, dm_train, dm_test):\n",
    "    \n",
    "    assignments = []\n",
    "    m_values = []\n",
    "    n_train = len(dm_train)\n",
    "    n_test = len(dm_test)\n",
    "    \n",
    "    for i in range(n_test):\n",
    "        \n",
    "        s = 0\n",
    "        for j in range(n_train):\n",
    "            s += labels_train[j]*parameters[j]*trace(dot(dm_train[j], dm_test[i])).real\n",
    "        \n",
    "        m = s + bias\n",
    "        m_values.append(m)\n",
    "        assignments.append(np.sign(m))\n",
    "        \n",
    "    return assignments, m_values"
   ]
  },
  {
   "cell_type": "markdown",
   "metadata": {},
   "source": [
    "#### Training accuracy"
   ]
  },
  {
   "cell_type": "code",
   "execution_count": 320,
   "metadata": {},
   "outputs": [],
   "source": [
    "n_train = 100\n",
    "regions = [(0, 1/2), (1/2, 4)]\n",
    "class_labels = [-1, 1]\n",
    "n_classes = len(class_labels)\n",
    "\n",
    "ham1 = random_hermitian(1)\n",
    "ham2 = random_hermitian(1)\n",
    "\n",
    "\n",
    "alphas_train = []\n",
    "labels_train = []\n",
    "dm_train = []\n",
    "\n",
    "for i in range(n_train):\n",
    "    \n",
    "    label = random.sample(class_labels, 1)[0]\n",
    "    labels_train.append(label)\n",
    "    \n",
    "    index = 0\n",
    "    for j in range(n_classes):\n",
    "        if label == class_labels[j]:\n",
    "            index = j\n",
    "    \n",
    "    alpha = random.uniform(regions[index][0], regions[index][1])\n",
    "    alphas_train.append(alpha)\n",
    "    \n",
    "    hamiltonian = alpha*ham1 + (1 - alpha)*ham2\n",
    "    \n",
    "    state_vector = eigh(hamiltonian)[1][:,0]\n",
    "    density_matrix = outer(state_vector.conj(), state_vector)\n",
    "    dm_train.append(density_matrix)"
   ]
  },
  {
   "cell_type": "code",
   "execution_count": 321,
   "metadata": {},
   "outputs": [
    {
     "name": "stdout",
     "output_type": "stream",
     "text": [
      "Completed in 66.64222192764282\n"
     ]
    },
    {
     "data": {
      "image/png": "[encoded data removed]",
      "text/plain": [
       "<Figure size 432x288 with 1 Axes>"
      ]
     },
     "metadata": {
      "needs_background": "light"
     },
     "output_type": "display_data"
    },
    {
     "name": "stdout",
     "output_type": "stream",
     "text": [
      "Bias: -0.0176771535795055\n"
     ]
    }
   ],
   "source": [
    "method = 'SLSQP'\n",
    "\n",
    "start_time = time.time()\n",
    "parameters, bias, f_values, optimization_result, K = train(dm_train, labels_train, method)\n",
    "print('Completed in', time.time() - start_time)\n",
    "\n",
    "x_axis = np.arange(len(f_values))\n",
    "plt.plot(x_axis, f_values)\n",
    "plt.show()\n",
    "\n",
    "print('Bias:', bias)"
   ]
  },
  {
   "cell_type": "code",
   "execution_count": 322,
   "metadata": {},
   "outputs": [
    {
     "data": {
      "image/png": "[encoded data removed]",
      "text/plain": [
       "<Figure size 144x360 with 1 Axes>"
      ]
     },
     "metadata": {
      "needs_background": "light"
     },
     "output_type": "display_data"
    }
   ],
   "source": [
    "assignments_train, predictions_train = classify(labels_train, parameters, bias, dm_train, dm_train)\n",
    "\n",
    "ps = 0\n",
    "for i in range(n_train):\n",
    "    if labels_train[i] == assignments_train[i]:\n",
    "        ps += 1\n",
    "acc_train = ps/n_train\n",
    "\n",
    "predictions_plot = [[] for i in range(n_classes)] \n",
    "for i in range(n_train):\n",
    "    for j in range(n_classes):\n",
    "        if labels_train[i] == class_labels[j]:\n",
    "            predictions_plot[j].append(predictions_train[i])\n",
    "\n",
    "plt.figure(figsize=(n_classes, 5))\n",
    "for i in range(n_classes):\n",
    "    x = np.array([class_labels[i]]*len(predictions_plot[i]))\n",
    "    y = np.array(predictions_plot[i])\n",
    "    plt.scatter(x, y, s=100)\n",
    "for i in range(n_classes - 1):\n",
    "    plt.hlines(y=0, xmin=class_labels[0], xmax=class_labels[-1], color='black', linestyle='dashed')\n",
    "# plt.hlines(y=1, xmin=class_labels[0], xmax=class_labels[-1], color='black', linestyle='solid')      \n",
    "plt.xlabel('Class', fontsize=14)\n",
    "plt.ylabel('Cost function value', fontsize=14)\n",
    "plt.xticks(class_labels, [str(c) for c in class_labels])\n",
    "plt.title('Trainig accuracy: ' + str(acc_train), fontsize=14)\n",
    "plt.xlim(xmin=class_labels[0]-0.1, xmax=class_labels[-1]+0.1)\n",
    "# plt.ylim(ymin=-1.05, ymax=1.05)\n",
    "plt.grid()\n",
    "plt.show()"
   ]
  },
  {
   "cell_type": "markdown",
   "metadata": {},
   "source": [
    "#### Classification accuracy"
   ]
  },
  {
   "cell_type": "code",
   "execution_count": 323,
   "metadata": {},
   "outputs": [],
   "source": [
    "n_test = 100\n",
    "\n",
    "labels_test = []\n",
    "alphas_test = []\n",
    "dm_test = []\n",
    "\n",
    "for i in range(n_test):\n",
    "    \n",
    "    label = random.sample(class_labels, 1)[0]\n",
    "    labels_test.append(label)\n",
    "    \n",
    "    index = 0\n",
    "    for j in range(n_classes):\n",
    "        if label == class_labels[j]:\n",
    "            index = j\n",
    "    \n",
    "    alpha = random.uniform(regions[index][0], regions[index][1])\n",
    "    alphas_test.append(alpha)\n",
    "    \n",
    "    hamiltonian = alpha*ham1 + (1 - alpha)*ham2\n",
    "    \n",
    "    state_vector = eigh(hamiltonian)[1][:,0]\n",
    "    density_matrix = outer(state_vector.conj(), state_vector)\n",
    "    dm_test.append(density_matrix)"
   ]
  },
  {
   "cell_type": "code",
   "execution_count": 324,
   "metadata": {},
   "outputs": [
    {
     "data": {
      "image/png": "[encoded data removed]",
      "text/plain": [
       "<Figure size 144x360 with 1 Axes>"
      ]
     },
     "metadata": {
      "needs_background": "light"
     },
     "output_type": "display_data"
    }
   ],
   "source": [
    "assignments_test, predictions_test = classify(labels_train, parameters, bias, dm_train, dm_test)\n",
    "\n",
    "ps = 0\n",
    "for i in range(n_test):\n",
    "    if labels_test[i] == assignments_test[i]:\n",
    "        ps += 1\n",
    "acc_test = ps/n_test\n",
    "\n",
    "\n",
    "predictions_plot = [[] for i in range(n_classes)] \n",
    "for i in range(n_test):\n",
    "    for j in range(n_classes):\n",
    "        if labels_test[i] == class_labels[j]:\n",
    "            predictions_plot[j].append(predictions_test[i])\n",
    "\n",
    "plt.figure(figsize=(n_classes, 5))\n",
    "for i in range(n_classes):\n",
    "    x = np.array([class_labels[i]]*len(predictions_plot[i]))\n",
    "    y = np.array(predictions_plot[i])\n",
    "    plt.scatter(x, y, s=100)\n",
    "for i in range(n_classes - 1):\n",
    "    plt.hlines(y=0, xmin=class_labels[0], xmax=class_labels[-1], color='black', linestyle='dashed') \n",
    "plt.xlabel('Class', fontsize=14)\n",
    "plt.ylabel('Cost function value', fontsize=14)\n",
    "plt.xticks(class_labels, [str(c) for c in class_labels])\n",
    "plt.title('Classification accuracy: ' + str(acc_test), fontsize=14)\n",
    "plt.xlim(xmin=class_labels[0]-0.1, xmax=class_labels[-1]+0.1)\n",
    "plt.grid()\n",
    "plt.show()"
   ]
  },
  {
   "cell_type": "markdown",
   "metadata": {},
   "source": [
    "# v1: test for channels with random $\\alpha$s with $\\alpha_1 \\leqslant \\alpha_c < \\alpha_2$ and $\\vert + \\rangle$ probe state\n",
    "\n",
    "No circuits, just matrix multiplication."
   ]
  },
  {
   "cell_type": "code",
   "execution_count": 325,
   "metadata": {},
   "outputs": [],
   "source": [
    "def train(dm_train, labels, method):\n",
    "    \n",
    "    f_values = []\n",
    "    n_train = len(dm_train)\n",
    "    \n",
    "    # estimate the kernel\n",
    "    K = np.zeros((n_train, n_train))\n",
    "    for i in range(n_train):\n",
    "        for j in range(i + 1):\n",
    "            K[i][j] = K[j][i] = trace(dot(dm_train[i], dm_train[j])).real\n",
    "            \n",
    "    # hinge loss\n",
    "    def fun(x):\n",
    "        \n",
    "        term1 = 0\n",
    "        term2 = 0\n",
    "        \n",
    "        for i in range(n_train):\n",
    "            term1 += x[i]\n",
    "            term2 += 0.5*labels[i]*x[i]*x[i]*labels[i]*K[i][i]\n",
    "            for j in range(i):\n",
    "                term2 += labels[i]*labels[j]*x[i]*x[j]*K[i][j]\n",
    "        \n",
    "        f = term1 - term2\n",
    "        f_values.append(f)\n",
    "        \n",
    "        return -f\n",
    "    \n",
    "    \n",
    "    # train the model #\n",
    "    \n",
    "    # find optimal parameters\n",
    "    bounds = [(0, None)] * n_train\n",
    "    x0 = [random.uniform(0, 1) for i in range(n_train)]\n",
    "    constraints = {'type': 'eq',\n",
    "                   'fun': lambda x: dot(x, labels)}\n",
    "    optimization_result = minimize(fun=fun, x0=x0, method=method, bounds=bounds, constraints=constraints)\n",
    "    parameters = optimization_result.x\n",
    "    \n",
    "    # find bias\n",
    "\n",
    "    for i in range(n_train):\n",
    "        if np.round(parameters[i], 4) > 0:\n",
    "            index = i\n",
    "            break\n",
    "            \n",
    "    s = 0\n",
    "    for i in range(n_train):\n",
    "        s += labels[i]*parameters[i]*K[i][index]\n",
    "        \n",
    "    bias = labels[index] - s\n",
    "    \n",
    "    \n",
    "    return parameters, bias, f_values, optimization_result, K"
   ]
  },
  {
   "cell_type": "code",
   "execution_count": 326,
   "metadata": {},
   "outputs": [],
   "source": [
    "def classify(labels_train, parameters, bias, dm_train, dm_test):\n",
    "    \n",
    "    assignments = []\n",
    "    m_values = []\n",
    "    n_train = len(dm_train)\n",
    "    n_test = len(dm_test)\n",
    "    \n",
    "    for i in range(n_test):\n",
    "        \n",
    "        s = 0\n",
    "        for j in range(n_train):\n",
    "            s += labels_train[j]*parameters[j]*trace(dot(dm_train[j], dm_test[i])).real\n",
    "        \n",
    "        m = s + bias\n",
    "        m_values.append(m)\n",
    "        assignments.append(np.sign(m))\n",
    "        \n",
    "    return assignments, m_values"
   ]
  },
  {
   "cell_type": "markdown",
   "metadata": {},
   "source": [
    "#### Training accuracy"
   ]
  },
  {
   "cell_type": "code",
   "execution_count": 328,
   "metadata": {},
   "outputs": [],
   "source": [
    "n_train = 100\n",
    "regions = [(1.2, 1.5), (1.5, 2)]\n",
    "class_labels = [-1, 1]\n",
    "n_classes = len(class_labels)\n",
    "\n",
    "\n",
    "alphas_train = []\n",
    "labels_train = []\n",
    "dm_train = []\n",
    "\n",
    "for i in range(n_train):\n",
    "    \n",
    "    label = random.sample(class_labels, 1)[0]\n",
    "    labels_train.append(label)\n",
    "    \n",
    "    index = 0\n",
    "    for j in range(n_classes):\n",
    "        if label == class_labels[j]:\n",
    "            index = j\n",
    "    \n",
    "    alpha = random.uniform(regions[index][0], regions[index][1])\n",
    "    alphas_train.append(alpha)\n",
    "    \n",
    "#     state_vector = np.array(qp.rand_ket_haar(2))\n",
    "    state_vector = np.array([1, 1]) / sqrt(2)\n",
    "    density_matrix = outer(state_vector, state_vector.conj().T)\n",
    "    \n",
    "#     density_matrix = local_depolarizing_channel(1, density_matrix, alpha, 0)\n",
    "    density_matrix = colored_noise_channel(1, density_matrix, pi/2, alpha, 0, gamma1=1e-4, gamma2=1e4)\n",
    "    \n",
    "    dm_train.append(density_matrix)"
   ]
  },
  {
   "cell_type": "code",
   "execution_count": 329,
   "metadata": {},
   "outputs": [
    {
     "name": "stdout",
     "output_type": "stream",
     "text": [
      "Completed in 43.62144374847412\n"
     ]
    },
    {
     "data": {
      "image/png": "[encoded data removed]",
      "text/plain": [
       "<Figure size 432x288 with 1 Axes>"
      ]
     },
     "metadata": {
      "needs_background": "light"
     },
     "output_type": "display_data"
    },
    {
     "name": "stdout",
     "output_type": "stream",
     "text": [
      "Bias: -102.81876617650005\n"
     ]
    }
   ],
   "source": [
    "method = 'SLSQP'\n",
    "\n",
    "start_time = time.time()\n",
    "parameters, bias, f_values, optimization_result, K = train(dm_train, labels_train, method)\n",
    "print('Completed in', time.time() - start_time)\n",
    "\n",
    "x_axis = np.arange(len(f_values))\n",
    "plt.plot(x_axis, f_values)\n",
    "plt.show()\n",
    "\n",
    "print('Bias:', bias)"
   ]
  },
  {
   "cell_type": "code",
   "execution_count": 330,
   "metadata": {},
   "outputs": [
    {
     "data": {
      "image/png": "[encoded data removed]",
      "text/plain": [
       "<Figure size 144x360 with 1 Axes>"
      ]
     },
     "metadata": {
      "needs_background": "light"
     },
     "output_type": "display_data"
    }
   ],
   "source": [
    "assignments_train, predictions_train = classify(labels_train, parameters, bias, dm_train, dm_train)\n",
    "\n",
    "ps = 0\n",
    "for i in range(n_train):\n",
    "    if labels_train[i] == assignments_train[i]:\n",
    "        ps += 1\n",
    "acc_train = ps/n_train\n",
    "\n",
    "predictions_plot = [[] for i in range(n_classes)] \n",
    "for i in range(n_train):\n",
    "    for j in range(n_classes):\n",
    "        if labels_train[i] == class_labels[j]:\n",
    "            predictions_plot[j].append(predictions_train[i])\n",
    "\n",
    "plt.figure(figsize=(n_classes, 5))\n",
    "for i in range(n_classes):\n",
    "    x = np.array([class_labels[i]]*len(predictions_plot[i]))\n",
    "    y = np.array(predictions_plot[i])\n",
    "    plt.scatter(x, y, s=100)\n",
    "for i in range(n_classes - 1):\n",
    "    plt.hlines(y=0, xmin=class_labels[0], xmax=class_labels[-1], color='black', linestyle='dashed')\n",
    "# plt.hlines(y=1, xmin=class_labels[0], xmax=class_labels[-1], color='black', linestyle='solid')      \n",
    "plt.xlabel('Class', fontsize=14)\n",
    "plt.ylabel('Cost function value', fontsize=14)\n",
    "plt.xticks(class_labels, [str(c) for c in class_labels])\n",
    "plt.title('Trainig accuracy: ' + str(acc_train), fontsize=14)\n",
    "plt.xlim(xmin=class_labels[0]-0.1, xmax=class_labels[-1]+0.1)\n",
    "# plt.ylim(ymin=-1.05, ymax=1.05)\n",
    "plt.grid()\n",
    "plt.show()"
   ]
  },
  {
   "cell_type": "markdown",
   "metadata": {},
   "source": [
    "#### Classification accuracy"
   ]
  },
  {
   "cell_type": "code",
   "execution_count": 332,
   "metadata": {},
   "outputs": [],
   "source": [
    "n_test = 100\n",
    "\n",
    "labels_test = []\n",
    "alphas_test = []\n",
    "dm_test = []\n",
    "\n",
    "for i in range(n_test):\n",
    "    \n",
    "    label = random.sample(class_labels, 1)[0]\n",
    "    labels_test.append(label)\n",
    "    \n",
    "    index = 0\n",
    "    for j in range(n_classes):\n",
    "        if label == class_labels[j]:\n",
    "            index = j\n",
    "    \n",
    "    alpha = random.uniform(regions[index][0], regions[index][1])\n",
    "    alphas_test.append(alpha)\n",
    "    \n",
    "    state_vector = np.array([1, 1]) / sqrt(2)\n",
    "    density_matrix = outer(state_vector, state_vector.conj().T)\n",
    "    \n",
    "#     density_matrix = local_depolarizing_channel(1, density_matrix, alpha, 0)\n",
    "    density_matrix = colored_noise_channel(1, density_matrix, pi/2, alpha, 0, gamma1=1e-4, gamma2=1e4)\n",
    "    \n",
    "    dm_test.append(density_matrix)"
   ]
  },
  {
   "cell_type": "code",
   "execution_count": 333,
   "metadata": {},
   "outputs": [
    {
     "data": {
      "image/png": "[encoded data removed]",
      "text/plain": [
       "<Figure size 144x360 with 1 Axes>"
      ]
     },
     "metadata": {
      "needs_background": "light"
     },
     "output_type": "display_data"
    }
   ],
   "source": [
    "assignments_test, predictions_test = classify(labels_train, parameters, bias, dm_train, dm_test)\n",
    "\n",
    "ps = 0\n",
    "for i in range(n_test):\n",
    "    if labels_test[i] == assignments_test[i]:\n",
    "        ps += 1\n",
    "acc_test = ps/n_test\n",
    "\n",
    "\n",
    "predictions_plot = [[] for i in range(n_classes)] \n",
    "for i in range(n_test):\n",
    "    for j in range(n_classes):\n",
    "        if labels_test[i] == class_labels[j]:\n",
    "            predictions_plot[j].append(predictions_test[i])\n",
    "\n",
    "plt.figure(figsize=(n_classes, 5))\n",
    "for i in range(n_classes):\n",
    "    x = np.array([class_labels[i]]*len(predictions_plot[i]))\n",
    "    y = np.array(predictions_plot[i])\n",
    "    plt.scatter(x, y, s=100)\n",
    "for i in range(n_classes - 1):\n",
    "    plt.hlines(y=0, xmin=class_labels[0], xmax=class_labels[-1], color='black', linestyle='dashed') \n",
    "plt.xlabel('Class', fontsize=14)\n",
    "plt.ylabel('Cost function value', fontsize=14)\n",
    "plt.xticks(class_labels, [str(c) for c in class_labels])\n",
    "plt.title('Classification accuracy: ' + str(acc_test), fontsize=14)\n",
    "plt.xlim(xmin=class_labels[0]-0.1, xmax=class_labels[-1]+0.1)\n",
    "plt.grid()\n",
    "plt.show()"
   ]
  },
  {
   "cell_type": "markdown",
   "metadata": {},
   "source": [
    "# v2: test for channels with fixed $\\alpha_1, \\alpha_2$ and random probe states\n",
    "\n",
    "No circuits, just matrix multiplication."
   ]
  },
  {
   "cell_type": "code",
   "execution_count": 334,
   "metadata": {},
   "outputs": [],
   "source": [
    "def train(dm_train, labels, method):\n",
    "    \n",
    "    f_values = []\n",
    "    n_train = len(dm_train)\n",
    "    \n",
    "    # estimate the kernel\n",
    "    K = np.zeros((n_train, n_train))\n",
    "    for i in range(n_train):\n",
    "        for j in range(i + 1):\n",
    "            K[i][j] = K[j][i] = trace(dot(dm_train[i], dm_train[j])).real\n",
    "            \n",
    "    # hinge loss\n",
    "    def fun(x):\n",
    "        \n",
    "        term1 = 0\n",
    "        term2 = 0\n",
    "        \n",
    "        for i in range(n_train):\n",
    "            term1 += x[i]\n",
    "            term2 += 0.5*labels[i]*x[i]*x[i]*labels[i]*K[i][i]\n",
    "            for j in range(i):\n",
    "                term2 += labels[i]*labels[j]*x[i]*x[j]*K[i][j]\n",
    "        \n",
    "        f = term1 - term2\n",
    "        f_values.append(f)\n",
    "        \n",
    "        return -f\n",
    "    \n",
    "    \n",
    "    # train the model #\n",
    "    \n",
    "    # find optimal parameters\n",
    "    bounds = [(0, None)] * n_train\n",
    "    x0 = [random.uniform(0, 1) for i in range(n_train)]\n",
    "    constraints = {'type': 'eq',\n",
    "                   'fun': lambda x: dot(x, labels)}\n",
    "    optimization_result = minimize(fun=fun, x0=x0, method=method, bounds=bounds, constraints=constraints)\n",
    "    parameters = optimization_result.x\n",
    "    \n",
    "    # find bias\n",
    "\n",
    "    for i in range(n_train):\n",
    "        if np.round(parameters[i], 4) > 0:\n",
    "            index = i\n",
    "            break\n",
    "            \n",
    "    s = 0\n",
    "    for i in range(n_train):\n",
    "        s += labels[i]*parameters[i]*K[i][index]\n",
    "        \n",
    "    bias = labels[index] - s\n",
    "    \n",
    "    \n",
    "    return parameters, bias, f_values, optimization_result, K"
   ]
  },
  {
   "cell_type": "code",
   "execution_count": 335,
   "metadata": {},
   "outputs": [],
   "source": [
    "def classify(labels_train, parameters, bias, dm_train, dm_test):\n",
    "    \n",
    "    assignments = []\n",
    "    m_values = []\n",
    "    n_train = len(dm_train)\n",
    "    n_test = len(dm_test)\n",
    "    \n",
    "    for i in range(n_test):\n",
    "        \n",
    "        s = 0\n",
    "        for j in range(n_train):\n",
    "            s += labels_train[j]*parameters[j]*trace(dot(dm_train[j], dm_test[i])).real\n",
    "        \n",
    "        m = s + bias\n",
    "        m_values.append(m)\n",
    "        assignments.append(np.sign(m))\n",
    "        \n",
    "    return assignments, m_values"
   ]
  },
  {
   "cell_type": "markdown",
   "metadata": {},
   "source": [
    "#### Training accuracy"
   ]
  },
  {
   "cell_type": "code",
   "execution_count": 336,
   "metadata": {},
   "outputs": [],
   "source": [
    "n_train = 100\n",
    "alphas_possible = [0.5, 2]\n",
    "class_labels = [-1, 1]\n",
    "n_classes = len(class_labels)\n",
    "\n",
    "\n",
    "alphas_train = []\n",
    "labels_train = []\n",
    "dm_train = []\n",
    "\n",
    "for i in range(n_train):\n",
    "    \n",
    "    index = random.randint(0, n_classes-1)\n",
    "    label = class_labels[index]\n",
    "    labels_train.append(label)\n",
    "        \n",
    "    alpha = alphas_possible[index]\n",
    "    alphas_train.append(alpha)\n",
    "    \n",
    "    state_vector = np.array(qp.rand_ket_haar(2))\n",
    "#     state_vector = np.array([1, 1]) / sqrt(2)\n",
    "    density_matrix = outer(state_vector, state_vector.conj().T)\n",
    "    \n",
    "#     density_matrix = local_depolarizing_channel(1, density_matrix, alpha, 0)\n",
    "    density_matrix = colored_noise_channel(1, density_matrix, pi/2, alpha, 0, gamma1=1e-4, gamma2=1e4)\n",
    "    \n",
    "    dm_train.append(density_matrix)"
   ]
  },
  {
   "cell_type": "code",
   "execution_count": 337,
   "metadata": {},
   "outputs": [
    {
     "name": "stdout",
     "output_type": "stream",
     "text": [
      "Completed in 48.8877112865448\n"
     ]
    },
    {
     "data": {
      "image/png": "[encoded data removed]",
      "text/plain": [
       "<Figure size 432x288 with 1 Axes>"
      ]
     },
     "metadata": {
      "needs_background": "light"
     },
     "output_type": "display_data"
    },
    {
     "name": "stdout",
     "output_type": "stream",
     "text": [
      "Bias: -1.6944228665083756\n"
     ]
    }
   ],
   "source": [
    "method = 'SLSQP'\n",
    "\n",
    "start_time = time.time()\n",
    "parameters, bias, f_values, optimization_result, K = train(dm_train, labels_train, method)\n",
    "print('Completed in', time.time() - start_time)\n",
    "\n",
    "x_axis = np.arange(len(f_values))\n",
    "plt.plot(x_axis, f_values)\n",
    "plt.show()\n",
    "\n",
    "print('Bias:', bias)"
   ]
  },
  {
   "cell_type": "code",
   "execution_count": 338,
   "metadata": {},
   "outputs": [
    {
     "data": {
      "image/png": "[encoded data removed]",
      "text/plain": [
       "<Figure size 144x360 with 1 Axes>"
      ]
     },
     "metadata": {
      "needs_background": "light"
     },
     "output_type": "display_data"
    }
   ],
   "source": [
    "assignments_train, predictions_train = classify(labels_train, parameters, bias+0.985, dm_train, dm_train)\n",
    "\n",
    "ps = 0\n",
    "for i in range(n_train):\n",
    "    if labels_train[i] == assignments_train[i]:\n",
    "        ps += 1\n",
    "acc_train = ps/n_train\n",
    "\n",
    "predictions_plot = [[] for i in range(n_classes)] \n",
    "for i in range(n_train):\n",
    "    for j in range(n_classes):\n",
    "        if labels_train[i] == class_labels[j]:\n",
    "            predictions_plot[j].append(predictions_train[i])\n",
    "\n",
    "plt.figure(figsize=(n_classes, 5))\n",
    "for i in range(n_classes):\n",
    "    x = np.array([class_labels[i]]*len(predictions_plot[i]))\n",
    "    y = np.array(predictions_plot[i])\n",
    "    plt.scatter(x, y, s=100)\n",
    "for i in range(n_classes - 1):\n",
    "    plt.hlines(y=0, xmin=class_labels[0], xmax=class_labels[-1], color='black', linestyle='dashed')\n",
    "# plt.hlines(y=1, xmin=class_labels[0], xmax=class_labels[-1], color='black', linestyle='solid')      \n",
    "plt.xlabel('Class', fontsize=14)\n",
    "plt.ylabel('Cost function value', fontsize=14)\n",
    "plt.xticks(class_labels, [str(c) for c in class_labels])\n",
    "plt.title('Trainig accuracy: ' + str(acc_train), fontsize=14)\n",
    "plt.xlim(xmin=class_labels[0]-0.1, xmax=class_labels[-1]+0.1)\n",
    "# plt.ylim(ymin=-1.05, ymax=1.05)\n",
    "plt.grid()\n",
    "plt.show()"
   ]
  },
  {
   "cell_type": "code",
   "execution_count": null,
   "metadata": {},
   "outputs": [],
   "source": []
  },
  {
   "cell_type": "code",
   "execution_count": null,
   "metadata": {},
   "outputs": [],
   "source": []
  }
 ],
 "metadata": {
  "kernelspec": {
   "display_name": "Python 3",
   "language": "python",
   "name": "python3"
  },
  "language_info": {
   "codemirror_mode": {
    "name": "ipython",
    "version": 3
   },
   "file_extension": ".py",
   "mimetype": "text/x-python",
   "name": "python",
   "nbconvert_exporter": "python",
   "pygments_lexer": "ipython3",
   "version": "3.7.4"
  }
 },
 "nbformat": 4,
 "nbformat_minor": 4
}
